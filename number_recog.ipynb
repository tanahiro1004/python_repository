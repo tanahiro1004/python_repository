{
  "nbformat": 4,
  "nbformat_minor": 0,
  "metadata": {
    "colab": {
      "name": "number_recog.ipynb",
      "provenance": [],
      "collapsed_sections": [],
      "authorship_tag": "ABX9TyOfQW+N1mBEuj8dskTLmKpl",
      "include_colab_link": true
    },
    "kernelspec": {
      "name": "python3",
      "display_name": "Python 3"
    },
    "language_info": {
      "name": "python"
    }
  },
  "cells": [
    {
      "cell_type": "markdown",
      "metadata": {
        "id": "view-in-github",
        "colab_type": "text"
      },
      "source": [
        "<a href=\"https://colab.research.google.com/github/tanahiro1004/python_repository/blob/main/number_recog.ipynb\" target=\"_parent\"><img src=\"https://colab.research.google.com/assets/colab-badge.svg\" alt=\"Open In Colab\"/></a>"
      ]
    },
    {
      "cell_type": "code",
      "metadata": {
        "colab": {
          "base_uri": "https://localhost:8080/"
        },
        "id": "keGl-ovZMp1-",
        "outputId": "596adf1a-4d64-47e4-90e0-28c4ff67e482"
      },
      "source": [
        "import torch \n",
        "import numpy as np\n",
        "import matplotlib.pyplot as plt\n",
        "from sklearn import datasets\n",
        "from sklearn.model_selection import train_test_split\n",
        "\n",
        "data = datasets.load_digits()\n",
        "images = data.data\n",
        "labels = data.target\n",
        "labels[0]"
      ],
      "execution_count": null,
      "outputs": [
        {
          "output_type": "execute_result",
          "data": {
            "text/plain": [
              "0"
            ]
          },
          "metadata": {
            "tags": []
          },
          "execution_count": 1
        }
      ]
    },
    {
      "cell_type": "code",
      "metadata": {
        "id": "-gQ70P6aP-3p"
      },
      "source": [
        "d1,d2,ans1,ans2 = train_test_split(images,labels)\n",
        "d1 = torch.tensor(d1, dtype=torch.float32)\n",
        "ans1 = torch.tensor(ans1,dtype=torch.int64)\n",
        "d2 = torch.tensor(d2,dtype=torch.float32)\n",
        "ans2 = torch.tensor(ans2,dtype=torch.int64)"
      ],
      "execution_count": null,
      "outputs": []
    },
    {
      "cell_type": "code",
      "metadata": {
        "id": "dVu9IpyvRh2F"
      },
      "source": [
        "from torch import nn\n",
        "\n",
        "net = nn.Sequential(\n",
        "    nn.Linear(64,32),\n",
        "    nn.ReLU(),\n",
        "    nn.Linear(32,16),\n",
        "    nn.ReLU(),\n",
        "    nn.Linear(16,10)\n",
        ")"
      ],
      "execution_count": null,
      "outputs": []
    },
    {
      "cell_type": "code",
      "metadata": {
        "colab": {
          "base_uri": "https://localhost:8080/"
        },
        "id": "pleIR3gcR5ds",
        "outputId": "8416d5b7-a1de-4061-a989-e477a4d49ccd"
      },
      "source": [
        "from torch import optim\n",
        "\n",
        "loss_fnc = nn.CrossEntropyLoss()\n",
        "optimizer = optim.SGD(net.parameters(),lr=0.01)\n",
        "\n",
        "record_loss1 = []\n",
        "record_loss2 = []\n",
        "\n",
        "for i in range(1000):\n",
        "  \n",
        "  optimizer.zero_grad()\n",
        "\n",
        "  y1 = net(d1)\n",
        "  y2 = net(d2)\n",
        "\n",
        "  loss1 = loss_fnc(y1,ans1)\n",
        "  loss2 = loss_fnc(y2,ans2)\n",
        "  record_loss1.append(loss1.item())\n",
        "  record_loss2.append(loss2.item())\n",
        "\n",
        "  loss1.backward()\n",
        "  optimizer.step()\n",
        "\n",
        "  if i%100 == 0:\n",
        "    print(f\"Epoch:{i:03} Loss1:{loss1.item():5g} Loss2:{loss2.item():5g}\")"
      ],
      "execution_count": null,
      "outputs": [
        {
          "output_type": "stream",
          "text": [
            "Epoch:000 Loss1:2.69331 Loss2:2.71563\n",
            "Epoch:100 Loss1:1.1118 Loss2:1.1391\n",
            "Epoch:200 Loss1:0.448146 Loss2:0.467475\n",
            "Epoch:300 Loss1:0.262503 Loss2:0.297699\n",
            "Epoch:400 Loss1:0.186044 Loss2:0.235816\n",
            "Epoch:500 Loss1:0.144466 Loss2:0.205226\n",
            "Epoch:600 Loss1:0.117829 Loss2:0.18656\n",
            "Epoch:700 Loss1:0.0988202 Loss2:0.173596\n",
            "Epoch:800 Loss1:0.0845349 Loss2:0.16419\n",
            "Epoch:900 Loss1:0.0733465 Loss2:0.157164\n"
          ],
          "name": "stdout"
        }
      ]
    },
    {
      "cell_type": "code",
      "metadata": {
        "colab": {
          "base_uri": "https://localhost:8080/",
          "height": 279
        },
        "id": "rOS1mrspVECR",
        "outputId": "6ef69002-c5c7-45b9-a9f2-d89f6ef111c5"
      },
      "source": [
        "plt.plot(range(len(record_loss1)), record_loss1, label=\"Train\")\n",
        "plt.plot(range(len(record_loss1)), record_loss2, label=\"Test\")\n",
        "plt.legend()\n",
        "\n",
        "plt.xlabel(\"Epochs\")\n",
        "plt.ylabel(\"Error\")\n",
        "plt.show()"
      ],
      "execution_count": null,
      "outputs": [
        {
          "output_type": "display_data",
          "data": {
            "image/png": "[encoded data removed]",
            "text/plain": [
              "<Figure size 432x288 with 1 Axes>"
            ]
          },
          "metadata": {
            "tags": [],
            "needs_background": "light"
          }
        }
      ]
    },
    {
      "cell_type": "code",
      "metadata": {
        "colab": {
          "base_uri": "https://localhost:8080/"
        },
        "id": "NHsYsbKbWHhw",
        "outputId": "cba07107-9357-47c4-e77d-bcc2acd1a9dc"
      },
      "source": [
        "y2 = net(d2)\n",
        "count = (y2.argmax(1) == ans2).sum().item()\n",
        "print(f\"正解率：{count/len(y2)*100:5g} %\")"
      ],
      "execution_count": null,
      "outputs": [
        {
          "output_type": "stream",
          "text": [
            "正解率：95.3333 %\n"
          ],
          "name": "stdout"
        }
      ]
    },
    {
      "cell_type": "code",
      "metadata": {
        "colab": {
          "base_uri": "https://localhost:8080/",
          "height": 282
        },
        "id": "c1M4W0mzXDCk",
        "outputId": "7136fa66-cf36-44ec-f4a0-dec15e703623"
      },
      "source": [
        "id = 122\n",
        "x = images[id]\n",
        "img = x.reshape(8,8)\n",
        "plt.imshow(img, cmap=\"Greys_r\")\n",
        "plt.show()\n",
        "\n",
        "x = torch.tensor(x, dtype=torch.float32)\n",
        "y = net(x)\n",
        "print(f\"正解：{labels[id]}  nnの解答：{y.argmax().item()}\")"
      ],
      "execution_count": null,
      "outputs": [
        {
          "output_type": "display_data",
          "data": {
            "image/png": "[encoded data removed]",
            "text/plain": [
              "<Figure size 432x288 with 1 Axes>"
            ]
          },
          "metadata": {
            "tags": [],
            "needs_background": "light"
          }
        },
        {
          "output_type": "stream",
          "text": [
            "正解：8  nnの解答：8\n"
          ],
          "name": "stdout"
        }
      ]
    },
    {
      "cell_type": "code",
      "metadata": {
        "id": "JxXgW3jKX8YV"
      },
      "source": [
        ""
      ],
      "execution_count": null,
      "outputs": []
    }
  ]
}