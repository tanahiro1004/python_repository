{
  "nbformat": 4,
  "nbformat_minor": 0,
  "metadata": {
    "colab": {
      "name": "Numpy-nyumon.ipynb",
      "provenance": [],
      "collapsed_sections": [],
      "authorship_tag": "ABX9TyMD6PQdLMrYA01U5vNSUY3/",
      "include_colab_link": true
    },
    "kernelspec": {
      "name": "python3",
      "display_name": "Python 3"
    },
    "language_info": {
      "name": "python"
    }
  },
  "cells": [
    {
      "cell_type": "markdown",
      "metadata": {
        "id": "view-in-github",
        "colab_type": "text"
      },
      "source": [
        "<a href=\"https://colab.research.google.com/github/tanahiro1004/python_repository/blob/main/Numpy_nyumon.ipynb\" target=\"_parent\"><img src=\"https://colab.research.google.com/assets/colab-badge.svg\" alt=\"Open In Colab\"/></a>"
      ]
    },
    {
      "cell_type": "code",
      "metadata": {
        "id": "22aOXt80CINO"
      },
      "source": [
        "import numpy as np"
      ],
      "execution_count": 2,
      "outputs": []
    },
    {
      "cell_type": "markdown",
      "metadata": {
        "id": "pknOaMArCtqY"
      },
      "source": [
        "## **多次元配列を定義**\n",
        "ndarrayというクラスで多次元配列を表現\n",
        "\n",
        "ndarrayオブジェクトは、shapeという属性を持っている。多次元配列の形が保存されている。\n",
        "\n",
        "shapeは多次元配列の次元数を表す\n",
        "\n",
        "ndimは階層(リストの深さ)を表す。\n",
        "\n",
        "sizeは多次元配列の要素数を表す。"
      ]
    },
    {
      "cell_type": "code",
      "metadata": {
        "colab": {
          "base_uri": "https://localhost:8080/"
        },
        "id": "tpDmkYgSCynR",
        "outputId": "7f2a9d95-8219-4f19-c0b6-3f25813b5325"
      },
      "source": [
        "a = np.array([[1,2,3], [4,5,6],[7,8,9]])\n",
        "\n",
        "print(f\"{a}\\n  a.shape = {a.shape}\\n  a.ndim = {a.ndim}\\n  a.size = {a.size}\")"
      ],
      "execution_count": null,
      "outputs": [
        {
          "output_type": "stream",
          "text": [
            "[[1 2 3]\n",
            " [4 5 6]\n",
            " [7 8 9]]\n",
            "  a.shape = (3, 3)\n",
            "  a.ndim = 2\n",
            "  a.size = 9\n"
          ],
          "name": "stdout"
        }
      ]
    },
    {
      "cell_type": "markdown",
      "metadata": {
        "id": "K3cZhStTCxsy"
      },
      "source": [
        "ndarrayの作成方法には、np.array()を用いてPythonのリストから多次元配列を作る方法以外にも存在する"
      ]
    },
    {
      "cell_type": "code",
      "metadata": {
        "colab": {
          "base_uri": "https://localhost:8080/"
        },
        "id": "4qp6XRPFJVt2",
        "outputId": "3942f78a-f6e0-40b6-9359-a4bf7ba4d984"
      },
      "source": [
        "#要素が全て0で埋められたndarrayを作成\n",
        "a = np.zeros((2,3))\n",
        "print(f\"a\\n{a}\\n\")\n",
        "\n",
        "#要素が全て1で埋められたndarrayを作成\n",
        "b = np.ones((3,3))\n",
        "print(f\"b\\n{b}\\n\")\n",
        "\n",
        "#要素が指定した値で埋められたndarrayを作成\n",
        "c = np.full((3,3),5)\n",
        "print(f\"c\\n{c}\\n\")\n",
        "\n",
        "#指定された大きさの単位行列を表すndarrayを作る\n",
        "d = np.eye(5)\n",
        "print(f\"d\\n{d}\\n\")\n",
        "\n",
        "#指定した形で0~1の間の乱数で要素を埋めたndarrayを作成する\n",
        "e = np.random.random((4,5))\n",
        "print(f\"e\\n{e}\\n\")\n",
        "\n",
        "#3から始まり10になるまで1ずつ増加する数列を作る（10は含まれない）\n",
        "f = np.arange(3,10,1)\n",
        "print(f\"f\\n{f}\\n\")"
      ],
      "execution_count": null,
      "outputs": [
        {
          "output_type": "stream",
          "text": [
            "a\n",
            "[[0. 0. 0.]\n",
            " [0. 0. 0.]]\n",
            "\n",
            "b\n",
            "[[1. 1. 1.]\n",
            " [1. 1. 1.]\n",
            " [1. 1. 1.]]\n",
            "\n",
            "c\n",
            "[[5 5 5]\n",
            " [5 5 5]\n",
            " [5 5 5]]\n",
            "\n",
            "d\n",
            "[[1. 0. 0. 0. 0.]\n",
            " [0. 1. 0. 0. 0.]\n",
            " [0. 0. 1. 0. 0.]\n",
            " [0. 0. 0. 1. 0.]\n",
            " [0. 0. 0. 0. 1.]]\n",
            "\n",
            "e\n",
            "[[0.09217077 0.46142389 0.61391671 0.47703116 0.43270363]\n",
            " [0.72271641 0.93248803 0.73987819 0.33400812 0.57283006]\n",
            " [0.32641509 0.59215976 0.04103353 0.2367413  0.94951736]\n",
            " [0.15936433 0.05812163 0.51315504 0.43375255 0.36675217]]\n",
            "\n",
            "f\n",
            "[3 4 5 6 7 8 9]\n",
            "\n"
          ],
          "name": "stdout"
        }
      ]
    },
    {
      "cell_type": "markdown",
      "metadata": {
        "id": "IeB4lSH0Ntkf"
      },
      "source": [
        "**既存のndarrayから要素を指定して新たなndarrayを作成**することも可能\n",
        "\n",
        "**選択したい行と列を順にそれぞれリストとして与えること**でも行える\n",
        "\n",
        "cの選択した３つの値は行と列を指している。初めのリストが0行目、2行目、1行目を選択している\n",
        "\n",
        "次のリストは1列目、1列目、0列目を選択している。同一のインデックスの行の値と列の値に一致するaの値を取得する"
      ]
    },
    {
      "cell_type": "code",
      "metadata": {
        "colab": {
          "base_uri": "https://localhost:8080/"
        },
        "id": "zQqR2_JvN9_7",
        "outputId": "d127a6cd-3ee0-40c9-a856-d550825327b1"
      },
      "source": [
        "a = np.array([[1,2,3],[3,6,9],[4,8,12]])\n",
        "\n",
        "b = np.array([a[0,1], a[1,1], a[2,2]])\n",
        "print(f\"b\\n {b}\")\n",
        "\n",
        "#下の場合a[0,1]とa[2,1]とa[1,0]の値を取得してndarrayを作成する\n",
        "c = a[[0,2,1],[1,1,0]]\n",
        "print(f\"c\\n {c}\")"
      ],
      "execution_count": null,
      "outputs": [
        {
          "output_type": "stream",
          "text": [
            "b\n",
            " [ 2  6 12]\n",
            "c\n",
            " [2 8 3]\n"
          ],
          "name": "stdout"
        }
      ]
    },
    {
      "cell_type": "code",
      "metadata": {
        "colab": {
          "base_uri": "https://localhost:8080/"
        },
        "id": "WdMulntKJQPN",
        "outputId": "ab408489-c28e-4837-e10f-565e3fa638be"
      },
      "source": [
        "center = e[1:3,1:4]\n",
        "center\n",
        "\n",
        "print(\"Shape of e:\", e.shape)\n",
        "print(\"Shape of center\",center.shape)"
      ],
      "execution_count": null,
      "outputs": [
        {
          "output_type": "stream",
          "text": [
            "Shape of e: (4, 5)\n",
            "Shape of center (2, 3)\n"
          ],
          "name": "stdout"
        }
      ]
    },
    {
      "cell_type": "markdown",
      "metadata": {
        "id": "svirM6QPJu8D"
      },
      "source": [
        "上記のようにスライス表記を用いて**選択したい要素を範囲指定することができる**\n",
        "\n",
        "また、スライスを用いて取り出したndarrayの一部に対し、値を代入することもできる"
      ]
    },
    {
      "cell_type": "code",
      "metadata": {
        "colab": {
          "base_uri": "https://localhost:8080/"
        },
        "id": "HOPSwa5eKPhX",
        "outputId": "dd5aa492-a994-415d-b511-714bad13fa29"
      },
      "source": [
        "e[1:3,1:4] = 0\n",
        "e"
      ],
      "execution_count": null,
      "outputs": [
        {
          "output_type": "execute_result",
          "data": {
            "text/plain": [
              "array([[0.09217077, 0.46142389, 0.61391671, 0.47703116, 0.43270363],\n",
              "       [0.72271641, 0.        , 0.        , 0.        , 0.57283006],\n",
              "       [0.32641509, 0.        , 0.        , 0.        , 0.94951736],\n",
              "       [0.15936433, 0.05812163, 0.51315504, 0.43375255, 0.36675217]])"
            ]
          },
          "metadata": {
            "tags": []
          },
          "execution_count": 6
        }
      ]
    },
    {
      "cell_type": "markdown",
      "metadata": {
        "id": "WwlWCbqDKrXH"
      },
      "source": [
        "Pythonのint型はNumpyのint64型になる\n",
        "\n",
        "float型も同様でNumpyのfloat64型になる\n",
        "\n",
        "これはPythonのint型はNumpyのint_型に対応づけれており、場合によってはint64型、int32型となる。\n",
        "\n",
        "これはfloat型も同様である\n",
        "\n",
        "特定の方を指定し、ndarrayを作成するには以下のようにする"
      ]
    },
    {
      "cell_type": "code",
      "metadata": {
        "colab": {
          "base_uri": "https://localhost:8080/"
        },
        "id": "3NykujYqLSi_",
        "outputId": "a6438020-ba29-4fe2-d02b-be11f5aac66f"
      },
      "source": [
        "x = np.array([1,2,3], dtype=np.float32)\n",
        "\n",
        "#以下のように文字列での指定も行える\n",
        "# x = np.array([1,2,3],dtype = \"float32\")\n",
        "# x = np.array([1,2,3],dtype = \"f\")\n",
        "\n",
        "x.dtype"
      ],
      "execution_count": null,
      "outputs": [
        {
          "output_type": "execute_result",
          "data": {
            "text/plain": [
              "dtype('float32')"
            ]
          },
          "metadata": {
            "tags": []
          },
          "execution_count": 8
        }
      ]
    },
    {
      "cell_type": "markdown",
      "metadata": {
        "id": "z7vFBsTQLokR"
      },
      "source": [
        "一度あるデータ型で定義した配列のデータ型を別のものに変更するには、**astype**を用いて変換する。"
      ]
    },
    {
      "cell_type": "code",
      "metadata": {
        "colab": {
          "base_uri": "https://localhost:8080/"
        },
        "id": "JOVFbTbMMgvB",
        "outputId": "ad67a0cb-bf6d-4372-eaa0-89a518607457"
      },
      "source": [
        "x = x.astype(np.float64)\n",
        "\n",
        "x.dtype"
      ],
      "execution_count": null,
      "outputs": [
        {
          "output_type": "execute_result",
          "data": {
            "text/plain": [
              "dtype('float64')"
            ]
          },
          "metadata": {
            "tags": []
          },
          "execution_count": 10
        }
      ]
    },
    {
      "cell_type": "markdown",
      "metadata": {
        "id": "4QMf40CaMtXH"
      },
      "source": [
        "同じ形の行列を２つ定義すると、要素ごとの加減乗除を行える\n",
        "\n",
        "Numpyでは、与えられた多次元配列に対して要素ごとに計算を行う関数が色々と用意されている。"
      ]
    },
    {
      "cell_type": "code",
      "metadata": {
        "colab": {
          "base_uri": "https://localhost:8080/"
        },
        "id": "YSuJhZOAM4Hg",
        "outputId": "0ef7ea9c-e375-424e-ffd3-0a248bb8c295"
      },
      "source": [
        "a = np.array([[1,2,3],[4,5,6],[7,8,9]])\n",
        "\n",
        "#要素ごとに平方根を計算する\n",
        "b = np.sqrt(a)\n",
        "print(f\"b\\n {b} \")\n",
        "\n",
        "#要素ごとに値をn乗する\n",
        "n = 2\n",
        "c = np.power(a,n)\n",
        "#n乗は以下のようしても大丈夫\n",
        "# c = a ** n\n",
        "print(f\"c\\n {c}\")"
      ],
      "execution_count": null,
      "outputs": [
        {
          "output_type": "stream",
          "text": [
            "b\n",
            " [[1.         1.41421356 1.73205081]\n",
            " [2.         2.23606798 2.44948974]\n",
            " [2.64575131 2.82842712 3.        ]] \n",
            "c\n",
            " [[ 1  4  9]\n",
            " [16 25 36]\n",
            " [49 64 81]]\n"
          ],
          "name": "stdout"
        }
      ]
    },
    {
      "cell_type": "markdown",
      "metadata": {
        "id": "AtdNSaaYO0as"
      },
      "source": [
        "\n",
        "bの１行3列の各値が同列のaの３行3列の値に足されている。\n",
        "\n",
        "aの2行3列の値はbの3列の値が加算される。"
      ]
    },
    {
      "cell_type": "code",
      "metadata": {
        "colab": {
          "base_uri": "https://localhost:8080/"
        },
        "id": "chW2fyEeOy0d",
        "outputId": "f324a3fa-ccf3-4635-cb2b-835ad27f2240"
      },
      "source": [
        "b = np.array([1,2,3])\n",
        "c = a + b\n",
        "c"
      ],
      "execution_count": null,
      "outputs": [
        {
          "output_type": "execute_result",
          "data": {
            "text/plain": [
              "array([[ 2,  4,  6],\n",
              "       [ 5,  7,  9],\n",
              "       [ 8, 10, 12]])"
            ]
          },
          "metadata": {
            "tags": []
          },
          "execution_count": 25
        }
      ]
    },
    {
      "cell_type": "markdown",
      "metadata": {
        "id": "N53rEpr7QkhU"
      },
      "source": [
        "上記の計算が実行できるのはNumpyがbの1行3列の形をaと同じ形に暗黙的に揃えているからである。\n",
        "\n",
        "この操作を**ブロードキャスト**という\n",
        "\n",
        "Numpyは自動的に小さい方の配列をブロードキャストし大きい配列の形と合わせる。\n",
        "\n",
        "ブロードキャストによって計算が可能になるためにはルールがある\n",
        "\n",
        "### 「２つの配列の各次元が同じ大きさになっているか、どちらかが１であること」"
      ]
    },
    {
      "cell_type": "code",
      "metadata": {
        "colab": {
          "base_uri": "https://localhost:8080/"
        },
        "id": "_7vt0TFAUxuU",
        "outputId": "5012cc75-88ff-403e-cc6c-b0534afc78e5"
      },
      "source": [
        "a = np.random.randint(0,10,(2,1,3))\n",
        "b = np.random.randint(0,10,(3,1))\n",
        "\n",
        "print(\"a:\\n\",a)\n",
        "print(\"b:\\n\",b)\n",
        "\n",
        "c = a + b\n",
        "print(\"c:\\n\",c)\n",
        "print(c.shape)\n"
      ],
      "execution_count": null,
      "outputs": [
        {
          "output_type": "stream",
          "text": [
            "a:\n",
            " [[[2 9 3]]\n",
            "\n",
            " [[5 7 4]]]\n",
            "b:\n",
            " [[6]\n",
            " [6]\n",
            " [8]]\n",
            "c:\n",
            " [[[ 8 15  9]\n",
            "  [ 8 15  9]\n",
            "  [10 17 11]]\n",
            "\n",
            " [[11 13 10]\n",
            "  [11 13 10]\n",
            "  [13 15 12]]]\n",
            "(2, 3, 3)\n"
          ],
          "name": "stdout"
        }
      ]
    },
    {
      "cell_type": "markdown",
      "metadata": {
        "id": "xebHPd1qcIHX"
      },
      "source": [
        "上のコードの場合、２つの配列の末尾の次元数が3と1である。これは、条件のどちらかが1であることを満たしている。\n",
        "\n",
        "aは３次元であるが、bは２次元である。この場合、bは一番上の次元にサイズが1の次元が追加された形として扱われる。(1,3,1)\n",
        "\n",
        "２つの配列の各次元ごとのサイズの最大値をとった形(2,3,3)にブロードキャストされる\n"
      ]
    },
    {
      "cell_type": "code",
      "metadata": {
        "colab": {
          "base_uri": "https://localhost:8080/"
        },
        "id": "ML7neYlFkDv5",
        "outputId": "93c8c4f5-f31d-4813-8cb8-95fd3b7a9d7b"
      },
      "source": [
        "print(\"Original shape\", b.shape)\n",
        "print(b)\n",
        "b_expanded = b[np.newaxis, : , : ]\n",
        "print(\"Added new axis to the top:\", b_expanded.shape)\n",
        "print(b_expanded)"
      ],
      "execution_count": null,
      "outputs": [
        {
          "output_type": "stream",
          "text": [
            "Original shape (3, 1)\n",
            "[[6]\n",
            " [6]\n",
            " [8]]\n",
            "Added new axis to the top: (1, 3, 1)\n",
            "[[[6]\n",
            "  [6]\n",
            "  [8]]]\n"
          ],
          "name": "stdout"
        }
      ]
    },
    {
      "cell_type": "markdown",
      "metadata": {
        "id": "8binzzhlmGeN"
      },
      "source": [
        "np.newaxisが指定された位置に新しい次元が挿入される。配列が持つ数値の数は変わっていない\n",
        "\n",
        "%%timeitというJupyter Notebookで使用できるセル。実行時間を計測するセル"
      ]
    },
    {
      "cell_type": "code",
      "metadata": {
        "id": "KdljRS0ie4iP"
      },
      "source": [
        "a = np.random.randint(0,10,(5,5))\n",
        "\n",
        "b = np.array([1,2,3,4,5])\n",
        "\n",
        "c = np.empty([5,5])\n"
      ],
      "execution_count": 4,
      "outputs": []
    },
    {
      "cell_type": "code",
      "metadata": {
        "colab": {
          "base_uri": "https://localhost:8080/"
        },
        "id": "DUwRTeIMgD7o",
        "outputId": "5083ae09-2050-4946-eb94-441aa472efcd"
      },
      "source": [
        "%%timeit\n",
        "for i in range(a.shape[0]):\n",
        "  c[i, :] = a[i, :] +b"
      ],
      "execution_count": 5,
      "outputs": [
        {
          "output_type": "stream",
          "text": [
            "The slowest run took 10.94 times longer than the fastest. This could mean that an intermediate result is being cached.\n",
            "100000 loops, best of 5: 8.01 µs per loop\n"
          ],
          "name": "stdout"
        }
      ]
    },
    {
      "cell_type": "markdown",
      "metadata": {
        "id": "LC4N4DtTkoMh"
      },
      "source": [
        "上記のようにfor文を使うのではなく、ブロードキャストを利用した計算なら実行速度は数倍早くなる"
      ]
    },
    {
      "cell_type": "code",
      "metadata": {
        "colab": {
          "base_uri": "https://localhost:8080/"
        },
        "id": "0OfE6ZvkkvRO",
        "outputId": "6af80854-a801-4542-a694-d17272481967"
      },
      "source": [
        "%%timeit\n",
        "c = a + b"
      ],
      "execution_count": 6,
      "outputs": [
        {
          "output_type": "stream",
          "text": [
            "The slowest run took 41.69 times longer than the fastest. This could mean that an intermediate result is being cached.\n",
            "1000000 loops, best of 5: 1.19 µs per loop\n"
          ],
          "name": "stdout"
        }
      ]
    },
    {
      "cell_type": "markdown",
      "metadata": {
        "id": "cO7wQ3F1lEmU"
      },
      "source": [
        "行列同士の積の計算は * ではなくnp.dot()関数を用いる。"
      ]
    },
    {
      "cell_type": "code",
      "metadata": {
        "colab": {
          "base_uri": "https://localhost:8080/"
        },
        "id": "E7xlEZXzlWGP",
        "outputId": "73bc266a-a2a8-4c1c-c245-9d60f390410c"
      },
      "source": [
        "a = np.random.randint(0,10,(3,3))\n",
        "b = np.random.randint(0,10,(3,3))\n",
        "print(a,b)\n",
        "\n",
        "C = np.dot(a,b)\n",
        "print(C)"
      ],
      "execution_count": 10,
      "outputs": [
        {
          "output_type": "stream",
          "text": [
            "[[4 6 4]\n",
            " [8 1 4]\n",
            " [5 0 2]] [[8 9 8]\n",
            " [8 7 8]\n",
            " [7 5 1]]\n",
            "[[108  98  84]\n",
            " [100  99  76]\n",
            " [ 54  55  42]]\n"
          ],
          "name": "stdout"
        }
      ]
    },
    {
      "cell_type": "markdown",
      "metadata": {
        "id": "Wc8sUykBlXSK"
      },
      "source": [
        "a.dot(b)という記述方法もある"
      ]
    },
    {
      "cell_type": "code",
      "metadata": {
        "colab": {
          "base_uri": "https://localhost:8080/"
        },
        "id": "JD_CQ3QLmRC_",
        "outputId": "fe89e640-7240-49fc-b7a6-53eec54e8091"
      },
      "source": [
        "x = np.random.randint(0,10,(8,10))\n",
        "\n",
        "#平均値\n",
        "avg = x.mean()\n",
        "\n",
        "#分散\n",
        "var = x.var()\n",
        "\n",
        "#標準偏差\n",
        "std = x.std()\n",
        "\n",
        "#最大値\n",
        "max = x.max()\n",
        "\n",
        "#最小値\n",
        "min = x.min()\n",
        "\n",
        "print(x)\n",
        "print(f\"平均値：{avg},  分散：{var},  標準偏差：{std}\")\n",
        "print(f\"最大値：{max}, 最小値：{min}\")"
      ],
      "execution_count": 13,
      "outputs": [
        {
          "output_type": "stream",
          "text": [
            "[[3 5 9 3 1 7 5 4 7 4]\n",
            " [5 0 2 4 3 9 2 9 4 7]\n",
            " [6 2 9 2 5 6 7 8 2 4]\n",
            " [6 7 2 5 0 0 3 5 5 1]\n",
            " [7 3 2 4 8 6 7 1 7 4]\n",
            " [3 9 7 9 7 2 9 3 1 9]\n",
            " [6 0 2 3 4 9 2 7 9 9]\n",
            " [8 3 4 1 6 0 5 5 2 0]]\n",
            "平均値：4.6375,  分散：7.706093749999999,  標準偏差：2.7759851854792017\n",
            "最大値：9, 最小値：0\n"
          ],
          "name": "stdout"
        }
      ]
    },
    {
      "cell_type": "markdown",
      "metadata": {
        "id": "Rs8bBgz_nxPr"
      },
      "source": [
        "特定の次元の平均（平均以外も出せる）を出せる"
      ]
    },
    {
      "cell_type": "code",
      "metadata": {
        "colab": {
          "base_uri": "https://localhost:8080/"
        },
        "id": "vNdHODiCoY8v",
        "outputId": "a1b4ca50-bf67-48ba-a3ad-b54da8c5dbea"
      },
      "source": [
        "x.mean(axis = 1)"
      ],
      "execution_count": 17,
      "outputs": [
        {
          "output_type": "execute_result",
          "data": {
            "text/plain": [
              "array([4.8, 4.5, 5.1, 3.4, 4.9, 5.9, 5.1, 3.4])"
            ]
          },
          "metadata": {
            "tags": []
          },
          "execution_count": 17
        }
      ]
    }
  ]
}